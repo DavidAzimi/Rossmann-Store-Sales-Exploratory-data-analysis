{
 "cells": [
  {
   "cell_type": "markdown",
   "id": "b403d77d",
   "metadata": {},
   "source": [
    "# Portfolio part 3 - Exploratory data analysis case study"
   ]
  },
  {
   "cell_type": "markdown",
   "id": "742af139",
   "metadata": {},
   "source": [
    "## 1 - Introduction and background\n",
    "\n",
    "Forecasting sales in retail segment is an important factor for planning and management decision making. Predicting demand is important for production planning, warehouse inventory, budgeting, human resource planning, etc.\n",
    "\n",
    "There are inherent uncertainties in demand forecasting due to several variables involved including promotions, holidays, competitors, special events, etc. \n",
    "\n",
    "This portfolio focuses on preparing data (data wrangling and data cleaning) for data scientists to perform data modelling and demand forecasting of Rossman chain drugstore. The aim is to assess our undestanding of the data and ability to do data cleaning, data wrangling and data visualisation and some data filtering. Rossman  operates more than 3000 branches in seven European countries. \n",
    "\n",
    "Store sales are influenced by many factors, including promotions, competition, school and state holidays, seasonality, and locality. \n",
    "\n",
    "We are provided with historical sales data for 1,115 Rossmann stores in 2 CSV files:\n",
    "\n",
    "**train.csv** - historical data including Sales.\n",
    "\n",
    "**store.csv** - supplemental information about the stores.\n",
    "\n",
    "\n",
    "\n"
   ]
  },
  {
   "cell_type": "markdown",
   "id": "0156f8b0",
   "metadata": {},
   "source": [
    "## 2- Ethical consideration with regards to the datasets\n",
    "\n",
    "In this section we investigate ethical consideration with regards to the datasets, especially with regards to accountability and data bias:\n",
    "\n",
    "1 - *Have we studied and understood possible sources of bias in our data?*\n",
    "\n",
    "In the data there is no mention of gender, age, social and economical status, etc. and we do not select data entries for the forecast and all data are treated equally. Furthermore, in the process of data preparation we will remove the outliers which are a known source of bias in data.\n",
    "\n",
    "Therefore, we believe to the best of our knowledge the bias does no exist.\n",
    "\n",
    "\n",
    "2 - *Have we anonymised data? *\n",
    "\n",
    "Yes, there are no personal information included in the datasets which violate people's privacy and reveals their information to the public.\n",
    "\n",
    "3 - *Do we sell personal data to the third parties?*\n",
    "\n",
    "Datasets are available to the public but as mentioned above data is completely anonymous and no personal information are involved.\n",
    "\n",
    "4 - *Do we ensure that the use of data does not lead to discrimination?*\n",
    "\n",
    "Yes, as the data have not been selected and include all available data from across all Rossman stores, we believe the forecasting and data modelling won't lead to any discrimination.\n",
    "\n",
    "\n",
    "\n",
    "\n"
   ]
  },
  {
   "cell_type": "markdown",
   "id": "0cc093d3",
   "metadata": {},
   "source": [
    "## 3 - Variable explanation\n",
    "\n",
    "Below is a list of the data fields in the datasets:\n",
    "\n",
    "**Id** - an Id that represents a (Store, Date) duple within the test set\n",
    "\n",
    "**Store** - a unique Id for each store\n",
    "\n",
    "**Sales** - the turnover for any given day\n",
    "\n",
    "**Customers** - the number of customers on a given day\n",
    "\n",
    "**Open** - an indicator for whether the store was open: 0 = closed, 1 = open\n",
    "\n",
    "**StateHoliday** - indicates a state holiday. a = public holiday, b = Easter holiday, c = Christmas, 0 = None\n",
    "\n",
    "**SchoolHoliday** - indicates if the (Store, Date) was affected by the closure of public schools\n",
    "\n",
    "**StoreType** - differentiates between 4 different store models: a, b, c, d\n",
    "\n",
    "**Assortment** - describes an assortment level: a = basic, b = extra, c = extended\n",
    "\n",
    "**CompetitionDistance** - distance in meters to the nearest competitor store\n",
    "\n",
    "**CompetitionOpenSince [Month/Year]** - gives the approximate year and month of the time the nearest competitor was opened\n",
    "\n",
    "**Promo** - indicates whether a store is running a promo on that day\n",
    "\n",
    "**Promo2** - Promo2 is a continuing and consecutive promotion for some stores: 0 = store is not participating, 1 = store is participating\n",
    "\n",
    "**Promo2Since [Year/Week]** - describes the year and calendar week when the store started participating in Promo2\n",
    "\n",
    "**PromoInterval** - describes the consecutive intervals Promo2 is started, naming the months the promotion is started anew. E.g. \"Feb,May,Aug,Nov\" means each round starts in February, May, August, November of any given year for that store\n"
   ]
  },
  {
   "cell_type": "code",
   "execution_count": 2,
   "id": "0b0b1eca",
   "metadata": {},
   "outputs": [],
   "source": [
    "import numpy as np\n",
    "import pandas as pd\n",
    "import datetime as dt\n",
    "import matplotlib.pyplot as plt"
   ]
  },
  {
   "cell_type": "markdown",
   "id": "093c0e4a",
   "metadata": {},
   "source": [
    "## 4 - Input"
   ]
  },
  {
   "cell_type": "markdown",
   "id": "b943f957",
   "metadata": {},
   "source": [
    "Now we input datasets from CSV files and store them in dataframes:"
   ]
  },
  {
   "cell_type": "code",
   "execution_count": 3,
   "id": "714ba641",
   "metadata": {},
   "outputs": [],
   "source": [
    "train = pd.read_csv(\"train.csv\", low_memory = False)\n",
    "store = pd.read_csv(\"store.csv\", low_memory = False)\n"
   ]
  },
  {
   "cell_type": "markdown",
   "id": "400bb444",
   "metadata": {},
   "source": [
    "## 5 - Data summary"
   ]
  },
  {
   "cell_type": "code",
   "execution_count": 4,
   "id": "15442ef0",
   "metadata": {},
   "outputs": [
    {
     "name": "stdout",
     "output_type": "stream",
     "text": [
      "train dataset rows and culomns:  (1017209, 9)\n"
     ]
    }
   ],
   "source": [
    "print(\"train dataset rows and culomns: \", train.shape)"
   ]
  },
  {
   "cell_type": "code",
   "execution_count": 5,
   "id": "540a463f",
   "metadata": {},
   "outputs": [
    {
     "name": "stdout",
     "output_type": "stream",
     "text": [
      "<class 'pandas.core.frame.DataFrame'>\n",
      "RangeIndex: 1017209 entries, 0 to 1017208\n",
      "Data columns (total 9 columns):\n",
      " #   Column         Non-Null Count    Dtype \n",
      "---  ------         --------------    ----- \n",
      " 0   Store          1017209 non-null  int64 \n",
      " 1   DayOfWeek      1017209 non-null  int64 \n",
      " 2   Date           1017209 non-null  object\n",
      " 3   Sales          1017209 non-null  int64 \n",
      " 4   Customers      1017209 non-null  int64 \n",
      " 5   Open           1017209 non-null  int64 \n",
      " 6   Promo          1017209 non-null  int64 \n",
      " 7   StateHoliday   1017209 non-null  object\n",
      " 8   SchoolHoliday  1017209 non-null  int64 \n",
      "dtypes: int64(7), object(2)\n",
      "memory usage: 69.8+ MB\n"
     ]
    }
   ],
   "source": [
    "train.info()"
   ]
  },
  {
   "cell_type": "code",
   "execution_count": 6,
   "id": "a0bd017e",
   "metadata": {},
   "outputs": [
    {
     "data": {
      "text/html": [
       "<div>\n",
       "<style scoped>\n",
       "    .dataframe tbody tr th:only-of-type {\n",
       "        vertical-align: middle;\n",
       "    }\n",
       "\n",
       "    .dataframe tbody tr th {\n",
       "        vertical-align: top;\n",
       "    }\n",
       "\n",
       "    .dataframe thead th {\n",
       "        text-align: right;\n",
       "    }\n",
       "</style>\n",
       "<table border=\"1\" class=\"dataframe\">\n",
       "  <thead>\n",
       "    <tr style=\"text-align: right;\">\n",
       "      <th></th>\n",
       "      <th>Store</th>\n",
       "      <th>DayOfWeek</th>\n",
       "      <th>Date</th>\n",
       "      <th>Sales</th>\n",
       "      <th>Customers</th>\n",
       "      <th>Open</th>\n",
       "      <th>Promo</th>\n",
       "      <th>StateHoliday</th>\n",
       "      <th>SchoolHoliday</th>\n",
       "    </tr>\n",
       "  </thead>\n",
       "  <tbody>\n",
       "    <tr>\n",
       "      <th>0</th>\n",
       "      <td>1</td>\n",
       "      <td>5</td>\n",
       "      <td>2015-07-31</td>\n",
       "      <td>5263</td>\n",
       "      <td>555</td>\n",
       "      <td>1</td>\n",
       "      <td>1</td>\n",
       "      <td>0</td>\n",
       "      <td>1</td>\n",
       "    </tr>\n",
       "    <tr>\n",
       "      <th>1</th>\n",
       "      <td>2</td>\n",
       "      <td>5</td>\n",
       "      <td>2015-07-31</td>\n",
       "      <td>6064</td>\n",
       "      <td>625</td>\n",
       "      <td>1</td>\n",
       "      <td>1</td>\n",
       "      <td>0</td>\n",
       "      <td>1</td>\n",
       "    </tr>\n",
       "    <tr>\n",
       "      <th>2</th>\n",
       "      <td>3</td>\n",
       "      <td>5</td>\n",
       "      <td>2015-07-31</td>\n",
       "      <td>8314</td>\n",
       "      <td>821</td>\n",
       "      <td>1</td>\n",
       "      <td>1</td>\n",
       "      <td>0</td>\n",
       "      <td>1</td>\n",
       "    </tr>\n",
       "    <tr>\n",
       "      <th>3</th>\n",
       "      <td>4</td>\n",
       "      <td>5</td>\n",
       "      <td>2015-07-31</td>\n",
       "      <td>13995</td>\n",
       "      <td>1498</td>\n",
       "      <td>1</td>\n",
       "      <td>1</td>\n",
       "      <td>0</td>\n",
       "      <td>1</td>\n",
       "    </tr>\n",
       "    <tr>\n",
       "      <th>4</th>\n",
       "      <td>5</td>\n",
       "      <td>5</td>\n",
       "      <td>2015-07-31</td>\n",
       "      <td>4822</td>\n",
       "      <td>559</td>\n",
       "      <td>1</td>\n",
       "      <td>1</td>\n",
       "      <td>0</td>\n",
       "      <td>1</td>\n",
       "    </tr>\n",
       "  </tbody>\n",
       "</table>\n",
       "</div>"
      ],
      "text/plain": [
       "   Store  DayOfWeek        Date  Sales  Customers  Open  Promo StateHoliday  \\\n",
       "0      1          5  2015-07-31   5263        555     1      1            0   \n",
       "1      2          5  2015-07-31   6064        625     1      1            0   \n",
       "2      3          5  2015-07-31   8314        821     1      1            0   \n",
       "3      4          5  2015-07-31  13995       1498     1      1            0   \n",
       "4      5          5  2015-07-31   4822        559     1      1            0   \n",
       "\n",
       "   SchoolHoliday  \n",
       "0              1  \n",
       "1              1  \n",
       "2              1  \n",
       "3              1  \n",
       "4              1  "
      ]
     },
     "execution_count": 6,
     "metadata": {},
     "output_type": "execute_result"
    }
   ],
   "source": [
    "train.head()"
   ]
  },
  {
   "cell_type": "markdown",
   "id": "b60babfe",
   "metadata": {},
   "source": [
    "We see that the train dataset which is sopposed to be used for predicting sales has 1017209 rows and 9 columns. there are no null rows in the dataset. We see that the date data type is object, so we need to convert its dtype to datatime.\n",
    "\n"
   ]
  },
  {
   "cell_type": "code",
   "execution_count": 7,
   "id": "84ed5f91",
   "metadata": {},
   "outputs": [
    {
     "name": "stdout",
     "output_type": "stream",
     "text": [
      "store dataset rows and culomns:  (1115, 10)\n"
     ]
    }
   ],
   "source": [
    "print(\"store dataset rows and culomns: \", store.shape)"
   ]
  },
  {
   "cell_type": "code",
   "execution_count": 8,
   "id": "74cf2fd7",
   "metadata": {},
   "outputs": [
    {
     "name": "stdout",
     "output_type": "stream",
     "text": [
      "<class 'pandas.core.frame.DataFrame'>\n",
      "RangeIndex: 1115 entries, 0 to 1114\n",
      "Data columns (total 10 columns):\n",
      " #   Column                     Non-Null Count  Dtype  \n",
      "---  ------                     --------------  -----  \n",
      " 0   Store                      1115 non-null   int64  \n",
      " 1   StoreType                  1115 non-null   object \n",
      " 2   Assortment                 1115 non-null   object \n",
      " 3   CompetitionDistance        1112 non-null   float64\n",
      " 4   CompetitionOpenSinceMonth  761 non-null    float64\n",
      " 5   CompetitionOpenSinceYear   761 non-null    float64\n",
      " 6   Promo2                     1115 non-null   int64  \n",
      " 7   Promo2SinceWeek            571 non-null    float64\n",
      " 8   Promo2SinceYear            571 non-null    float64\n",
      " 9   PromoInterval              571 non-null    object \n",
      "dtypes: float64(5), int64(2), object(3)\n",
      "memory usage: 87.2+ KB\n"
     ]
    }
   ],
   "source": [
    "store.info()"
   ]
  },
  {
   "cell_type": "code",
   "execution_count": 9,
   "id": "53b9a512",
   "metadata": {
    "scrolled": true
   },
   "outputs": [
    {
     "data": {
      "text/html": [
       "<div>\n",
       "<style scoped>\n",
       "    .dataframe tbody tr th:only-of-type {\n",
       "        vertical-align: middle;\n",
       "    }\n",
       "\n",
       "    .dataframe tbody tr th {\n",
       "        vertical-align: top;\n",
       "    }\n",
       "\n",
       "    .dataframe thead th {\n",
       "        text-align: right;\n",
       "    }\n",
       "</style>\n",
       "<table border=\"1\" class=\"dataframe\">\n",
       "  <thead>\n",
       "    <tr style=\"text-align: right;\">\n",
       "      <th></th>\n",
       "      <th>Store</th>\n",
       "      <th>StoreType</th>\n",
       "      <th>Assortment</th>\n",
       "      <th>CompetitionDistance</th>\n",
       "      <th>CompetitionOpenSinceMonth</th>\n",
       "      <th>CompetitionOpenSinceYear</th>\n",
       "      <th>Promo2</th>\n",
       "      <th>Promo2SinceWeek</th>\n",
       "      <th>Promo2SinceYear</th>\n",
       "      <th>PromoInterval</th>\n",
       "    </tr>\n",
       "  </thead>\n",
       "  <tbody>\n",
       "    <tr>\n",
       "      <th>0</th>\n",
       "      <td>1</td>\n",
       "      <td>c</td>\n",
       "      <td>a</td>\n",
       "      <td>1270.0</td>\n",
       "      <td>9.0</td>\n",
       "      <td>2008.0</td>\n",
       "      <td>0</td>\n",
       "      <td>NaN</td>\n",
       "      <td>NaN</td>\n",
       "      <td>NaN</td>\n",
       "    </tr>\n",
       "    <tr>\n",
       "      <th>1</th>\n",
       "      <td>2</td>\n",
       "      <td>a</td>\n",
       "      <td>a</td>\n",
       "      <td>570.0</td>\n",
       "      <td>11.0</td>\n",
       "      <td>2007.0</td>\n",
       "      <td>1</td>\n",
       "      <td>13.0</td>\n",
       "      <td>2010.0</td>\n",
       "      <td>Jan,Apr,Jul,Oct</td>\n",
       "    </tr>\n",
       "    <tr>\n",
       "      <th>2</th>\n",
       "      <td>3</td>\n",
       "      <td>a</td>\n",
       "      <td>a</td>\n",
       "      <td>14130.0</td>\n",
       "      <td>12.0</td>\n",
       "      <td>2006.0</td>\n",
       "      <td>1</td>\n",
       "      <td>14.0</td>\n",
       "      <td>2011.0</td>\n",
       "      <td>Jan,Apr,Jul,Oct</td>\n",
       "    </tr>\n",
       "    <tr>\n",
       "      <th>3</th>\n",
       "      <td>4</td>\n",
       "      <td>c</td>\n",
       "      <td>c</td>\n",
       "      <td>620.0</td>\n",
       "      <td>9.0</td>\n",
       "      <td>2009.0</td>\n",
       "      <td>0</td>\n",
       "      <td>NaN</td>\n",
       "      <td>NaN</td>\n",
       "      <td>NaN</td>\n",
       "    </tr>\n",
       "    <tr>\n",
       "      <th>4</th>\n",
       "      <td>5</td>\n",
       "      <td>a</td>\n",
       "      <td>a</td>\n",
       "      <td>29910.0</td>\n",
       "      <td>4.0</td>\n",
       "      <td>2015.0</td>\n",
       "      <td>0</td>\n",
       "      <td>NaN</td>\n",
       "      <td>NaN</td>\n",
       "      <td>NaN</td>\n",
       "    </tr>\n",
       "  </tbody>\n",
       "</table>\n",
       "</div>"
      ],
      "text/plain": [
       "   Store StoreType Assortment  CompetitionDistance  CompetitionOpenSinceMonth  \\\n",
       "0      1         c          a               1270.0                        9.0   \n",
       "1      2         a          a                570.0                       11.0   \n",
       "2      3         a          a              14130.0                       12.0   \n",
       "3      4         c          c                620.0                        9.0   \n",
       "4      5         a          a              29910.0                        4.0   \n",
       "\n",
       "   CompetitionOpenSinceYear  Promo2  Promo2SinceWeek  Promo2SinceYear  \\\n",
       "0                    2008.0       0              NaN              NaN   \n",
       "1                    2007.0       1             13.0           2010.0   \n",
       "2                    2006.0       1             14.0           2011.0   \n",
       "3                    2009.0       0              NaN              NaN   \n",
       "4                    2015.0       0              NaN              NaN   \n",
       "\n",
       "     PromoInterval  \n",
       "0              NaN  \n",
       "1  Jan,Apr,Jul,Oct  \n",
       "2  Jan,Apr,Jul,Oct  \n",
       "3              NaN  \n",
       "4              NaN  "
      ]
     },
     "execution_count": 9,
     "metadata": {},
     "output_type": "execute_result"
    }
   ],
   "source": [
    "store.head()"
   ]
  },
  {
   "cell_type": "markdown",
   "id": "1a465ff1",
   "metadata": {},
   "source": [
    "## 6-1 - Merging of data sources"
   ]
  },
  {
   "cell_type": "markdown",
   "id": "eaeca94f",
   "metadata": {},
   "source": [
    "Now we merge two datasets using store culomn and only stores which exist in both datasets. Also we validate that the are no duplicates in the store culomn in store datasets:"
   ]
  },
  {
   "cell_type": "code",
   "execution_count": 10,
   "id": "5eeabe69",
   "metadata": {
    "scrolled": true
   },
   "outputs": [
    {
     "name": "stdout",
     "output_type": "stream",
     "text": [
      "<class 'pandas.core.frame.DataFrame'>\n",
      "Int64Index: 1017209 entries, 0 to 1017208\n",
      "Data columns (total 18 columns):\n",
      " #   Column                     Non-Null Count    Dtype  \n",
      "---  ------                     --------------    -----  \n",
      " 0   Store                      1017209 non-null  int64  \n",
      " 1   DayOfWeek                  1017209 non-null  int64  \n",
      " 2   Date                       1017209 non-null  object \n",
      " 3   Sales                      1017209 non-null  int64  \n",
      " 4   Customers                  1017209 non-null  int64  \n",
      " 5   Open                       1017209 non-null  int64  \n",
      " 6   Promo                      1017209 non-null  int64  \n",
      " 7   StateHoliday               1017209 non-null  object \n",
      " 8   SchoolHoliday              1017209 non-null  int64  \n",
      " 9   StoreType                  1017209 non-null  object \n",
      " 10  Assortment                 1017209 non-null  object \n",
      " 11  CompetitionDistance        1014567 non-null  float64\n",
      " 12  CompetitionOpenSinceMonth  693861 non-null   float64\n",
      " 13  CompetitionOpenSinceYear   693861 non-null   float64\n",
      " 14  Promo2                     1017209 non-null  int64  \n",
      " 15  Promo2SinceWeek            509178 non-null   float64\n",
      " 16  Promo2SinceYear            509178 non-null   float64\n",
      " 17  PromoInterval              509178 non-null   object \n",
      "dtypes: float64(5), int64(8), object(5)\n",
      "memory usage: 147.5+ MB\n"
     ]
    }
   ],
   "source": [
    "merged_train = train.merge(store, how='inner', on=\"Store\",validate=\"many_to_one\")\n",
    "merged_train.info()"
   ]
  },
  {
   "cell_type": "markdown",
   "id": "bfd4ce8d",
   "metadata": {},
   "source": [
    "We see that there are several null rows in culomns 11-13 and 15-17 which need to be removed from the dataset later."
   ]
  },
  {
   "cell_type": "code",
   "execution_count": 11,
   "id": "f7869078",
   "metadata": {},
   "outputs": [
    {
     "data": {
      "text/html": [
       "<div>\n",
       "<style scoped>\n",
       "    .dataframe tbody tr th:only-of-type {\n",
       "        vertical-align: middle;\n",
       "    }\n",
       "\n",
       "    .dataframe tbody tr th {\n",
       "        vertical-align: top;\n",
       "    }\n",
       "\n",
       "    .dataframe thead th {\n",
       "        text-align: right;\n",
       "    }\n",
       "</style>\n",
       "<table border=\"1\" class=\"dataframe\">\n",
       "  <thead>\n",
       "    <tr style=\"text-align: right;\">\n",
       "      <th></th>\n",
       "      <th>Store</th>\n",
       "      <th>DayOfWeek</th>\n",
       "      <th>Date</th>\n",
       "      <th>Sales</th>\n",
       "      <th>Customers</th>\n",
       "      <th>Open</th>\n",
       "      <th>Promo</th>\n",
       "      <th>StateHoliday</th>\n",
       "      <th>SchoolHoliday</th>\n",
       "      <th>StoreType</th>\n",
       "      <th>Assortment</th>\n",
       "      <th>CompetitionDistance</th>\n",
       "      <th>CompetitionOpenSinceMonth</th>\n",
       "      <th>CompetitionOpenSinceYear</th>\n",
       "      <th>Promo2</th>\n",
       "      <th>Promo2SinceWeek</th>\n",
       "      <th>Promo2SinceYear</th>\n",
       "      <th>PromoInterval</th>\n",
       "    </tr>\n",
       "  </thead>\n",
       "  <tbody>\n",
       "    <tr>\n",
       "      <th>0</th>\n",
       "      <td>1</td>\n",
       "      <td>5</td>\n",
       "      <td>2015-07-31</td>\n",
       "      <td>5263</td>\n",
       "      <td>555</td>\n",
       "      <td>1</td>\n",
       "      <td>1</td>\n",
       "      <td>0</td>\n",
       "      <td>1</td>\n",
       "      <td>c</td>\n",
       "      <td>a</td>\n",
       "      <td>1270.0</td>\n",
       "      <td>9.0</td>\n",
       "      <td>2008.0</td>\n",
       "      <td>0</td>\n",
       "      <td>NaN</td>\n",
       "      <td>NaN</td>\n",
       "      <td>NaN</td>\n",
       "    </tr>\n",
       "    <tr>\n",
       "      <th>1</th>\n",
       "      <td>1</td>\n",
       "      <td>4</td>\n",
       "      <td>2015-07-30</td>\n",
       "      <td>5020</td>\n",
       "      <td>546</td>\n",
       "      <td>1</td>\n",
       "      <td>1</td>\n",
       "      <td>0</td>\n",
       "      <td>1</td>\n",
       "      <td>c</td>\n",
       "      <td>a</td>\n",
       "      <td>1270.0</td>\n",
       "      <td>9.0</td>\n",
       "      <td>2008.0</td>\n",
       "      <td>0</td>\n",
       "      <td>NaN</td>\n",
       "      <td>NaN</td>\n",
       "      <td>NaN</td>\n",
       "    </tr>\n",
       "    <tr>\n",
       "      <th>2</th>\n",
       "      <td>1</td>\n",
       "      <td>3</td>\n",
       "      <td>2015-07-29</td>\n",
       "      <td>4782</td>\n",
       "      <td>523</td>\n",
       "      <td>1</td>\n",
       "      <td>1</td>\n",
       "      <td>0</td>\n",
       "      <td>1</td>\n",
       "      <td>c</td>\n",
       "      <td>a</td>\n",
       "      <td>1270.0</td>\n",
       "      <td>9.0</td>\n",
       "      <td>2008.0</td>\n",
       "      <td>0</td>\n",
       "      <td>NaN</td>\n",
       "      <td>NaN</td>\n",
       "      <td>NaN</td>\n",
       "    </tr>\n",
       "    <tr>\n",
       "      <th>3</th>\n",
       "      <td>1</td>\n",
       "      <td>2</td>\n",
       "      <td>2015-07-28</td>\n",
       "      <td>5011</td>\n",
       "      <td>560</td>\n",
       "      <td>1</td>\n",
       "      <td>1</td>\n",
       "      <td>0</td>\n",
       "      <td>1</td>\n",
       "      <td>c</td>\n",
       "      <td>a</td>\n",
       "      <td>1270.0</td>\n",
       "      <td>9.0</td>\n",
       "      <td>2008.0</td>\n",
       "      <td>0</td>\n",
       "      <td>NaN</td>\n",
       "      <td>NaN</td>\n",
       "      <td>NaN</td>\n",
       "    </tr>\n",
       "    <tr>\n",
       "      <th>4</th>\n",
       "      <td>1</td>\n",
       "      <td>1</td>\n",
       "      <td>2015-07-27</td>\n",
       "      <td>6102</td>\n",
       "      <td>612</td>\n",
       "      <td>1</td>\n",
       "      <td>1</td>\n",
       "      <td>0</td>\n",
       "      <td>1</td>\n",
       "      <td>c</td>\n",
       "      <td>a</td>\n",
       "      <td>1270.0</td>\n",
       "      <td>9.0</td>\n",
       "      <td>2008.0</td>\n",
       "      <td>0</td>\n",
       "      <td>NaN</td>\n",
       "      <td>NaN</td>\n",
       "      <td>NaN</td>\n",
       "    </tr>\n",
       "  </tbody>\n",
       "</table>\n",
       "</div>"
      ],
      "text/plain": [
       "   Store  DayOfWeek        Date  Sales  Customers  Open  Promo StateHoliday  \\\n",
       "0      1          5  2015-07-31   5263        555     1      1            0   \n",
       "1      1          4  2015-07-30   5020        546     1      1            0   \n",
       "2      1          3  2015-07-29   4782        523     1      1            0   \n",
       "3      1          2  2015-07-28   5011        560     1      1            0   \n",
       "4      1          1  2015-07-27   6102        612     1      1            0   \n",
       "\n",
       "   SchoolHoliday StoreType Assortment  CompetitionDistance  \\\n",
       "0              1         c          a               1270.0   \n",
       "1              1         c          a               1270.0   \n",
       "2              1         c          a               1270.0   \n",
       "3              1         c          a               1270.0   \n",
       "4              1         c          a               1270.0   \n",
       "\n",
       "   CompetitionOpenSinceMonth  CompetitionOpenSinceYear  Promo2  \\\n",
       "0                        9.0                    2008.0       0   \n",
       "1                        9.0                    2008.0       0   \n",
       "2                        9.0                    2008.0       0   \n",
       "3                        9.0                    2008.0       0   \n",
       "4                        9.0                    2008.0       0   \n",
       "\n",
       "   Promo2SinceWeek  Promo2SinceYear PromoInterval  \n",
       "0              NaN              NaN           NaN  \n",
       "1              NaN              NaN           NaN  \n",
       "2              NaN              NaN           NaN  \n",
       "3              NaN              NaN           NaN  \n",
       "4              NaN              NaN           NaN  "
      ]
     },
     "execution_count": 11,
     "metadata": {},
     "output_type": "execute_result"
    }
   ],
   "source": [
    "merged_train.head()"
   ]
  },
  {
   "cell_type": "markdown",
   "id": "44437490",
   "metadata": {},
   "source": [
    "## 6-2 - Converting date columns to DateTime "
   ]
  },
  {
   "cell_type": "markdown",
   "id": "7b4e34d2",
   "metadata": {},
   "source": [
    "Now we convert date culomn to datetime using the correct format and by replacing invalid dates with Nat:"
   ]
  },
  {
   "cell_type": "code",
   "execution_count": 12,
   "id": "8be06980",
   "metadata": {},
   "outputs": [],
   "source": [
    "dt_corrected = pd.to_datetime(merged_train[\"Date\"],errors=\"coerce\",format=\"%Y-%m-%d\")\n",
    "\n"
   ]
  },
  {
   "cell_type": "code",
   "execution_count": 13,
   "id": "7bb315cf",
   "metadata": {},
   "outputs": [
    {
     "name": "stdout",
     "output_type": "stream",
     "text": [
      "<class 'pandas.core.frame.DataFrame'>\n",
      "Int64Index: 1017209 entries, 0 to 1017208\n",
      "Data columns (total 18 columns):\n",
      " #   Column                     Non-Null Count    Dtype         \n",
      "---  ------                     --------------    -----         \n",
      " 0   Store                      1017209 non-null  int64         \n",
      " 1   DayOfWeek                  1017209 non-null  int64         \n",
      " 2   Date                       1017209 non-null  datetime64[ns]\n",
      " 3   Sales                      1017209 non-null  int64         \n",
      " 4   Customers                  1017209 non-null  int64         \n",
      " 5   Open                       1017209 non-null  int64         \n",
      " 6   Promo                      1017209 non-null  int64         \n",
      " 7   StateHoliday               1017209 non-null  object        \n",
      " 8   SchoolHoliday              1017209 non-null  int64         \n",
      " 9   StoreType                  1017209 non-null  object        \n",
      " 10  Assortment                 1017209 non-null  object        \n",
      " 11  CompetitionDistance        1014567 non-null  float64       \n",
      " 12  CompetitionOpenSinceMonth  693861 non-null   float64       \n",
      " 13  CompetitionOpenSinceYear   693861 non-null   float64       \n",
      " 14  Promo2                     1017209 non-null  int64         \n",
      " 15  Promo2SinceWeek            509178 non-null   float64       \n",
      " 16  Promo2SinceYear            509178 non-null   float64       \n",
      " 17  PromoInterval              509178 non-null   object        \n",
      "dtypes: datetime64[ns](1), float64(5), int64(8), object(4)\n",
      "memory usage: 147.5+ MB\n"
     ]
    }
   ],
   "source": [
    "merged_train[\"Date\"] = dt_corrected\n",
    "merged_train.info()"
   ]
  },
  {
   "cell_type": "markdown",
   "id": "6f999f04",
   "metadata": {},
   "source": [
    "## 7-1 - Variable classification"
   ]
  },
  {
   "cell_type": "markdown",
   "id": "055ff2ae",
   "metadata": {},
   "source": [
    " 0   **Store**                      nominal       \n",
    " 1   **DayOfWeek**                  ordinal         \n",
    " 2   **Date**                       date       \n",
    " 3   **Sales**                      continuous         \n",
    " 4   **Customers**                  discrete         \n",
    " 5   **Open**                       nominal        \n",
    " 6   **Promo**                      nominal         \n",
    " 7   **StateHoliday**               nominal        \n",
    " 8   **SchoolHoliday**              nominal         \n",
    " 9   **StoreType**                  nominal        \n",
    " 10  **Assortment**                 ordinal    \n",
    " 11  **CompetitionDistance**        continuous    \n",
    " 12  **CompetitionOpenSinceMonth**  discrete      \n",
    " 13  **CompetitionOpenSinceYear**   discrete       \n",
    " 14  **Promo2**                     nominal       \n",
    " 15  **Promo2SinceWeek**            discrete       \n",
    " 16  **Promo2SinceYear**            discrete      \n",
    " 17  **PromoInterval**              nominal       "
   ]
  },
  {
   "cell_type": "markdown",
   "id": "7fde6bba",
   "metadata": {},
   "source": [
    "## 7-2 - Summary statistics of the data"
   ]
  },
  {
   "cell_type": "markdown",
   "id": "0b74c20e",
   "metadata": {},
   "source": [
    "Here we use describe() method to get statistical data of the merged dataset."
   ]
  },
  {
   "cell_type": "code",
   "execution_count": 14,
   "id": "8ac3169c",
   "metadata": {},
   "outputs": [
    {
     "data": {
      "text/html": [
       "<div>\n",
       "<style scoped>\n",
       "    .dataframe tbody tr th:only-of-type {\n",
       "        vertical-align: middle;\n",
       "    }\n",
       "\n",
       "    .dataframe tbody tr th {\n",
       "        vertical-align: top;\n",
       "    }\n",
       "\n",
       "    .dataframe thead th {\n",
       "        text-align: right;\n",
       "    }\n",
       "</style>\n",
       "<table border=\"1\" class=\"dataframe\">\n",
       "  <thead>\n",
       "    <tr style=\"text-align: right;\">\n",
       "      <th></th>\n",
       "      <th>Store</th>\n",
       "      <th>DayOfWeek</th>\n",
       "      <th>Sales</th>\n",
       "      <th>Customers</th>\n",
       "      <th>Open</th>\n",
       "      <th>Promo</th>\n",
       "      <th>SchoolHoliday</th>\n",
       "      <th>CompetitionDistance</th>\n",
       "      <th>CompetitionOpenSinceMonth</th>\n",
       "      <th>CompetitionOpenSinceYear</th>\n",
       "      <th>Promo2</th>\n",
       "      <th>Promo2SinceWeek</th>\n",
       "      <th>Promo2SinceYear</th>\n",
       "    </tr>\n",
       "  </thead>\n",
       "  <tbody>\n",
       "    <tr>\n",
       "      <th>count</th>\n",
       "      <td>1.017209e+06</td>\n",
       "      <td>1.017209e+06</td>\n",
       "      <td>1.017209e+06</td>\n",
       "      <td>1.017209e+06</td>\n",
       "      <td>1.017209e+06</td>\n",
       "      <td>1.017209e+06</td>\n",
       "      <td>1.017209e+06</td>\n",
       "      <td>1.014567e+06</td>\n",
       "      <td>693861.000000</td>\n",
       "      <td>693861.000000</td>\n",
       "      <td>1.017209e+06</td>\n",
       "      <td>509178.000000</td>\n",
       "      <td>509178.000000</td>\n",
       "    </tr>\n",
       "    <tr>\n",
       "      <th>mean</th>\n",
       "      <td>5.584297e+02</td>\n",
       "      <td>3.998341e+00</td>\n",
       "      <td>5.773819e+03</td>\n",
       "      <td>6.331459e+02</td>\n",
       "      <td>8.301067e-01</td>\n",
       "      <td>3.815145e-01</td>\n",
       "      <td>1.786467e-01</td>\n",
       "      <td>5.430086e+03</td>\n",
       "      <td>7.222866</td>\n",
       "      <td>2008.690228</td>\n",
       "      <td>5.005638e-01</td>\n",
       "      <td>23.269093</td>\n",
       "      <td>2011.752774</td>\n",
       "    </tr>\n",
       "    <tr>\n",
       "      <th>std</th>\n",
       "      <td>3.219087e+02</td>\n",
       "      <td>1.997391e+00</td>\n",
       "      <td>3.849926e+03</td>\n",
       "      <td>4.644117e+02</td>\n",
       "      <td>3.755392e-01</td>\n",
       "      <td>4.857586e-01</td>\n",
       "      <td>3.830564e-01</td>\n",
       "      <td>7.715324e+03</td>\n",
       "      <td>3.211832</td>\n",
       "      <td>5.992644</td>\n",
       "      <td>4.999999e-01</td>\n",
       "      <td>14.095973</td>\n",
       "      <td>1.662870</td>\n",
       "    </tr>\n",
       "    <tr>\n",
       "      <th>min</th>\n",
       "      <td>1.000000e+00</td>\n",
       "      <td>1.000000e+00</td>\n",
       "      <td>0.000000e+00</td>\n",
       "      <td>0.000000e+00</td>\n",
       "      <td>0.000000e+00</td>\n",
       "      <td>0.000000e+00</td>\n",
       "      <td>0.000000e+00</td>\n",
       "      <td>2.000000e+01</td>\n",
       "      <td>1.000000</td>\n",
       "      <td>1900.000000</td>\n",
       "      <td>0.000000e+00</td>\n",
       "      <td>1.000000</td>\n",
       "      <td>2009.000000</td>\n",
       "    </tr>\n",
       "    <tr>\n",
       "      <th>25%</th>\n",
       "      <td>2.800000e+02</td>\n",
       "      <td>2.000000e+00</td>\n",
       "      <td>3.727000e+03</td>\n",
       "      <td>4.050000e+02</td>\n",
       "      <td>1.000000e+00</td>\n",
       "      <td>0.000000e+00</td>\n",
       "      <td>0.000000e+00</td>\n",
       "      <td>7.100000e+02</td>\n",
       "      <td>4.000000</td>\n",
       "      <td>2006.000000</td>\n",
       "      <td>0.000000e+00</td>\n",
       "      <td>13.000000</td>\n",
       "      <td>2011.000000</td>\n",
       "    </tr>\n",
       "    <tr>\n",
       "      <th>50%</th>\n",
       "      <td>5.580000e+02</td>\n",
       "      <td>4.000000e+00</td>\n",
       "      <td>5.744000e+03</td>\n",
       "      <td>6.090000e+02</td>\n",
       "      <td>1.000000e+00</td>\n",
       "      <td>0.000000e+00</td>\n",
       "      <td>0.000000e+00</td>\n",
       "      <td>2.330000e+03</td>\n",
       "      <td>8.000000</td>\n",
       "      <td>2010.000000</td>\n",
       "      <td>1.000000e+00</td>\n",
       "      <td>22.000000</td>\n",
       "      <td>2012.000000</td>\n",
       "    </tr>\n",
       "    <tr>\n",
       "      <th>75%</th>\n",
       "      <td>8.380000e+02</td>\n",
       "      <td>6.000000e+00</td>\n",
       "      <td>7.856000e+03</td>\n",
       "      <td>8.370000e+02</td>\n",
       "      <td>1.000000e+00</td>\n",
       "      <td>1.000000e+00</td>\n",
       "      <td>0.000000e+00</td>\n",
       "      <td>6.890000e+03</td>\n",
       "      <td>10.000000</td>\n",
       "      <td>2013.000000</td>\n",
       "      <td>1.000000e+00</td>\n",
       "      <td>37.000000</td>\n",
       "      <td>2013.000000</td>\n",
       "    </tr>\n",
       "    <tr>\n",
       "      <th>max</th>\n",
       "      <td>1.115000e+03</td>\n",
       "      <td>7.000000e+00</td>\n",
       "      <td>4.155100e+04</td>\n",
       "      <td>7.388000e+03</td>\n",
       "      <td>1.000000e+00</td>\n",
       "      <td>1.000000e+00</td>\n",
       "      <td>1.000000e+00</td>\n",
       "      <td>7.586000e+04</td>\n",
       "      <td>12.000000</td>\n",
       "      <td>2015.000000</td>\n",
       "      <td>1.000000e+00</td>\n",
       "      <td>50.000000</td>\n",
       "      <td>2015.000000</td>\n",
       "    </tr>\n",
       "  </tbody>\n",
       "</table>\n",
       "</div>"
      ],
      "text/plain": [
       "              Store     DayOfWeek         Sales     Customers          Open  \\\n",
       "count  1.017209e+06  1.017209e+06  1.017209e+06  1.017209e+06  1.017209e+06   \n",
       "mean   5.584297e+02  3.998341e+00  5.773819e+03  6.331459e+02  8.301067e-01   \n",
       "std    3.219087e+02  1.997391e+00  3.849926e+03  4.644117e+02  3.755392e-01   \n",
       "min    1.000000e+00  1.000000e+00  0.000000e+00  0.000000e+00  0.000000e+00   \n",
       "25%    2.800000e+02  2.000000e+00  3.727000e+03  4.050000e+02  1.000000e+00   \n",
       "50%    5.580000e+02  4.000000e+00  5.744000e+03  6.090000e+02  1.000000e+00   \n",
       "75%    8.380000e+02  6.000000e+00  7.856000e+03  8.370000e+02  1.000000e+00   \n",
       "max    1.115000e+03  7.000000e+00  4.155100e+04  7.388000e+03  1.000000e+00   \n",
       "\n",
       "              Promo  SchoolHoliday  CompetitionDistance  \\\n",
       "count  1.017209e+06   1.017209e+06         1.014567e+06   \n",
       "mean   3.815145e-01   1.786467e-01         5.430086e+03   \n",
       "std    4.857586e-01   3.830564e-01         7.715324e+03   \n",
       "min    0.000000e+00   0.000000e+00         2.000000e+01   \n",
       "25%    0.000000e+00   0.000000e+00         7.100000e+02   \n",
       "50%    0.000000e+00   0.000000e+00         2.330000e+03   \n",
       "75%    1.000000e+00   0.000000e+00         6.890000e+03   \n",
       "max    1.000000e+00   1.000000e+00         7.586000e+04   \n",
       "\n",
       "       CompetitionOpenSinceMonth  CompetitionOpenSinceYear        Promo2  \\\n",
       "count              693861.000000             693861.000000  1.017209e+06   \n",
       "mean                    7.222866               2008.690228  5.005638e-01   \n",
       "std                     3.211832                  5.992644  4.999999e-01   \n",
       "min                     1.000000               1900.000000  0.000000e+00   \n",
       "25%                     4.000000               2006.000000  0.000000e+00   \n",
       "50%                     8.000000               2010.000000  1.000000e+00   \n",
       "75%                    10.000000               2013.000000  1.000000e+00   \n",
       "max                    12.000000               2015.000000  1.000000e+00   \n",
       "\n",
       "       Promo2SinceWeek  Promo2SinceYear  \n",
       "count    509178.000000    509178.000000  \n",
       "mean         23.269093      2011.752774  \n",
       "std          14.095973         1.662870  \n",
       "min           1.000000      2009.000000  \n",
       "25%          13.000000      2011.000000  \n",
       "50%          22.000000      2012.000000  \n",
       "75%          37.000000      2013.000000  \n",
       "max          50.000000      2015.000000  "
      ]
     },
     "execution_count": 14,
     "metadata": {},
     "output_type": "execute_result"
    }
   ],
   "source": [
    "merged_train.describe()"
   ]
  },
  {
   "cell_type": "markdown",
   "id": "2bbf30ae",
   "metadata": {},
   "source": [
    "For example in the above table in the sales culomn the describe methods tells us there are 1017209 entries with a mean of 5773.819 and standard deviation of 3849.926  the lower percentile of data is qual to 3727, the 50 percentile of data is qual to 5744, the upper percentile of data is qual to  7856  and the maximum of data is qual to 41551."
   ]
  },
  {
   "cell_type": "code",
   "execution_count": 15,
   "id": "b9c5f82e",
   "metadata": {},
   "outputs": [
    {
     "name": "stderr",
     "output_type": "stream",
     "text": [
      "/var/folders/6r/0kkh8x7d6nsck_dj0hdd57rm0000gn/T/ipykernel_14533/3922604160.py:1: FutureWarning: Dropping of nuisance columns in DataFrame reductions (with 'numeric_only=None') is deprecated; in a future version this will raise TypeError.  Select only valid columns before calling the reduction.\n",
      "  merged_train.skew()\n"
     ]
    },
    {
     "data": {
      "text/plain": [
       "Store                       -0.000955\n",
       "DayOfWeek                    0.001593\n",
       "Sales                        0.641460\n",
       "Customers                    1.598650\n",
       "Open                        -1.758045\n",
       "Promo                        0.487838\n",
       "SchoolHoliday                1.677842\n",
       "CompetitionDistance          2.928534\n",
       "CompetitionOpenSinceMonth   -0.169862\n",
       "CompetitionOpenSinceYear    -7.539515\n",
       "Promo2                      -0.002255\n",
       "Promo2SinceWeek              0.104528\n",
       "Promo2SinceYear             -0.120060\n",
       "dtype: float64"
      ]
     },
     "execution_count": 15,
     "metadata": {},
     "output_type": "execute_result"
    }
   ],
   "source": [
    "merged_train.skew()"
   ]
  },
  {
   "cell_type": "code",
   "execution_count": 16,
   "id": "6797c699",
   "metadata": {},
   "outputs": [
    {
     "name": "stderr",
     "output_type": "stream",
     "text": [
      "/var/folders/6r/0kkh8x7d6nsck_dj0hdd57rm0000gn/T/ipykernel_14533/2170605026.py:1: FutureWarning: Dropping of nuisance columns in DataFrame reductions (with 'numeric_only=None') is deprecated; in a future version this will raise TypeError.  Select only valid columns before calling the reduction.\n",
      "  merged_train.kurtosis()\n"
     ]
    },
    {
     "data": {
      "text/plain": [
       "Store                         -1.200524\n",
       "DayOfWeek                     -1.246873\n",
       "Sales                          1.778375\n",
       "Customers                      7.091773\n",
       "Open                           1.090723\n",
       "Promo                         -1.762018\n",
       "SchoolHoliday                  0.815154\n",
       "CompetitionDistance           13.000022\n",
       "CompetitionOpenSinceMonth     -1.248357\n",
       "CompetitionOpenSinceYear     121.934675\n",
       "Promo2                        -1.999999\n",
       "Promo2SinceWeek               -1.369929\n",
       "Promo2SinceYear               -1.040662\n",
       "dtype: float64"
      ]
     },
     "execution_count": 16,
     "metadata": {},
     "output_type": "execute_result"
    }
   ],
   "source": [
    "merged_train.kurtosis()"
   ]
  },
  {
   "cell_type": "markdown",
   "id": "f137f323",
   "metadata": {},
   "source": [
    "We can see that CompetitionOpenSinceYear variable has a very high positive kurtosis. This indicates the likelihood of heavy tails with outliers that are possibly extreme. If we look into the describe table we can see we have minimum as year 1900 which seems to be incorrect."
   ]
  },
  {
   "cell_type": "markdown",
   "id": "ec086a07",
   "metadata": {},
   "source": [
    "## 8 - Data cleaning and visualisation"
   ]
  },
  {
   "cell_type": "markdown",
   "id": "56f67ac9",
   "metadata": {},
   "source": [
    "Let's first check entries with zero sales:"
   ]
  },
  {
   "cell_type": "code",
   "execution_count": 17,
   "id": "cca61fad",
   "metadata": {},
   "outputs": [
    {
     "name": "stdout",
     "output_type": "stream",
     "text": [
      "<class 'pandas.core.frame.DataFrame'>\n",
      "Int64Index: 172871 entries, 5 to 1017208\n",
      "Data columns (total 18 columns):\n",
      " #   Column                     Non-Null Count   Dtype         \n",
      "---  ------                     --------------   -----         \n",
      " 0   Store                      172871 non-null  int64         \n",
      " 1   DayOfWeek                  172871 non-null  int64         \n",
      " 2   Date                       172871 non-null  datetime64[ns]\n",
      " 3   Sales                      172871 non-null  int64         \n",
      " 4   Customers                  172871 non-null  int64         \n",
      " 5   Open                       172871 non-null  int64         \n",
      " 6   Promo                      172871 non-null  int64         \n",
      " 7   StateHoliday               172871 non-null  object        \n",
      " 8   SchoolHoliday              172871 non-null  int64         \n",
      " 9   StoreType                  172871 non-null  object        \n",
      " 10  Assortment                 172871 non-null  object        \n",
      " 11  CompetitionDistance        172415 non-null  float64       \n",
      " 12  CompetitionOpenSinceMonth  118123 non-null  float64       \n",
      " 13  CompetitionOpenSinceYear   118123 non-null  float64       \n",
      " 14  Promo2                     172871 non-null  int64         \n",
      " 15  Promo2SinceWeek            88132 non-null   float64       \n",
      " 16  Promo2SinceYear            88132 non-null   float64       \n",
      " 17  PromoInterval              88132 non-null   object        \n",
      "dtypes: datetime64[ns](1), float64(5), int64(8), object(4)\n",
      "memory usage: 25.1+ MB\n"
     ]
    }
   ],
   "source": [
    "zero_sales = merged_train[(merged_train.Sales == 0)]\n",
    "zero_sales.info()"
   ]
  },
  {
   "cell_type": "markdown",
   "id": "dfb66025",
   "metadata": {},
   "source": [
    "We see that there are 172871 rows with no sales! We should remove them:"
   ]
  },
  {
   "cell_type": "code",
   "execution_count": 18,
   "id": "513a2d3f",
   "metadata": {},
   "outputs": [
    {
     "name": "stdout",
     "output_type": "stream",
     "text": [
      "<class 'pandas.core.frame.DataFrame'>\n",
      "Int64Index: 844338 entries, 0 to 1017207\n",
      "Data columns (total 18 columns):\n",
      " #   Column                     Non-Null Count   Dtype         \n",
      "---  ------                     --------------   -----         \n",
      " 0   Store                      844338 non-null  int64         \n",
      " 1   DayOfWeek                  844338 non-null  int64         \n",
      " 2   Date                       844338 non-null  datetime64[ns]\n",
      " 3   Sales                      844338 non-null  int64         \n",
      " 4   Customers                  844338 non-null  int64         \n",
      " 5   Open                       844338 non-null  int64         \n",
      " 6   Promo                      844338 non-null  int64         \n",
      " 7   StateHoliday               844338 non-null  object        \n",
      " 8   SchoolHoliday              844338 non-null  int64         \n",
      " 9   StoreType                  844338 non-null  object        \n",
      " 10  Assortment                 844338 non-null  object        \n",
      " 11  CompetitionDistance        842152 non-null  float64       \n",
      " 12  CompetitionOpenSinceMonth  575738 non-null  float64       \n",
      " 13  CompetitionOpenSinceYear   575738 non-null  float64       \n",
      " 14  Promo2                     844338 non-null  int64         \n",
      " 15  Promo2SinceWeek            421046 non-null  float64       \n",
      " 16  Promo2SinceYear            421046 non-null  float64       \n",
      " 17  PromoInterval              421046 non-null  object        \n",
      "dtypes: datetime64[ns](1), float64(5), int64(8), object(4)\n",
      "memory usage: 122.4+ MB\n"
     ]
    }
   ],
   "source": [
    "merged_train = merged_train[(merged_train['Sales'] != 0)]\n",
    "merged_train.info()"
   ]
  },
  {
   "cell_type": "markdown",
   "id": "167b696c",
   "metadata": {},
   "source": [
    "Now we drop the Open culomn as it is unnecessary as any store with non-zero sales has certainly been open:"
   ]
  },
  {
   "cell_type": "code",
   "execution_count": 19,
   "id": "d0c6fecf",
   "metadata": {},
   "outputs": [
    {
     "name": "stdout",
     "output_type": "stream",
     "text": [
      "<class 'pandas.core.frame.DataFrame'>\n",
      "Int64Index: 844338 entries, 0 to 1017207\n",
      "Data columns (total 17 columns):\n",
      " #   Column                     Non-Null Count   Dtype         \n",
      "---  ------                     --------------   -----         \n",
      " 0   Store                      844338 non-null  int64         \n",
      " 1   DayOfWeek                  844338 non-null  int64         \n",
      " 2   Date                       844338 non-null  datetime64[ns]\n",
      " 3   Sales                      844338 non-null  int64         \n",
      " 4   Customers                  844338 non-null  int64         \n",
      " 5   Promo                      844338 non-null  int64         \n",
      " 6   StateHoliday               844338 non-null  object        \n",
      " 7   SchoolHoliday              844338 non-null  int64         \n",
      " 8   StoreType                  844338 non-null  object        \n",
      " 9   Assortment                 844338 non-null  object        \n",
      " 10  CompetitionDistance        842152 non-null  float64       \n",
      " 11  CompetitionOpenSinceMonth  575738 non-null  float64       \n",
      " 12  CompetitionOpenSinceYear   575738 non-null  float64       \n",
      " 13  Promo2                     844338 non-null  int64         \n",
      " 14  Promo2SinceWeek            421046 non-null  float64       \n",
      " 15  Promo2SinceYear            421046 non-null  float64       \n",
      " 16  PromoInterval              421046 non-null  object        \n",
      "dtypes: datetime64[ns](1), float64(5), int64(7), object(4)\n",
      "memory usage: 116.0+ MB\n"
     ]
    }
   ],
   "source": [
    "merged_train = merged_train.drop(columns = \"Open\")\n",
    "merged_train.info()"
   ]
  },
  {
   "cell_type": "markdown",
   "id": "1aec18d8",
   "metadata": {},
   "source": [
    "Now we chack for missing values:"
   ]
  },
  {
   "cell_type": "code",
   "execution_count": 20,
   "id": "deefafad",
   "metadata": {
    "scrolled": true
   },
   "outputs": [
    {
     "data": {
      "text/plain": [
       "Store                             0\n",
       "DayOfWeek                         0\n",
       "Date                              0\n",
       "Sales                             0\n",
       "Customers                         0\n",
       "Promo                             0\n",
       "StateHoliday                      0\n",
       "SchoolHoliday                     0\n",
       "StoreType                         0\n",
       "Assortment                        0\n",
       "CompetitionDistance            2186\n",
       "CompetitionOpenSinceMonth    268600\n",
       "CompetitionOpenSinceYear     268600\n",
       "Promo2                            0\n",
       "Promo2SinceWeek              423292\n",
       "Promo2SinceYear              423292\n",
       "PromoInterval                423292\n",
       "dtype: int64"
      ]
     },
     "execution_count": 20,
     "metadata": {},
     "output_type": "execute_result"
    }
   ],
   "source": [
    "merged_train.isnull().sum()"
   ]
  },
  {
   "cell_type": "markdown",
   "id": "2ee359ac",
   "metadata": {},
   "source": [
    "We see that we still have missing values in some columns."
   ]
  },
  {
   "cell_type": "markdown",
   "id": "357fde96",
   "metadata": {},
   "source": [
    "Next we replace NaN values in the competition distance field with the median distance:"
   ]
  },
  {
   "cell_type": "code",
   "execution_count": 21,
   "id": "b6ff92b2",
   "metadata": {},
   "outputs": [
    {
     "data": {
      "text/plain": [
       "Store                             0\n",
       "DayOfWeek                         0\n",
       "Date                              0\n",
       "Sales                             0\n",
       "Customers                         0\n",
       "Promo                             0\n",
       "StateHoliday                      0\n",
       "SchoolHoliday                     0\n",
       "StoreType                         0\n",
       "Assortment                        0\n",
       "CompetitionDistance               0\n",
       "CompetitionOpenSinceMonth    268600\n",
       "CompetitionOpenSinceYear     268600\n",
       "Promo2                            0\n",
       "Promo2SinceWeek              423292\n",
       "Promo2SinceYear              423292\n",
       "PromoInterval                423292\n",
       "dtype: int64"
      ]
     },
     "execution_count": 21,
     "metadata": {},
     "output_type": "execute_result"
    }
   ],
   "source": [
    "merged_train['CompetitionDistance'].fillna(merged_train['CompetitionDistance'].median(), inplace = True)\n",
    "merged_train.isnull().sum()"
   ]
  },
  {
   "cell_type": "code",
   "execution_count": 22,
   "id": "9c7342b9",
   "metadata": {},
   "outputs": [
    {
     "data": {
      "text/html": [
       "<div>\n",
       "<style scoped>\n",
       "    .dataframe tbody tr th:only-of-type {\n",
       "        vertical-align: middle;\n",
       "    }\n",
       "\n",
       "    .dataframe tbody tr th {\n",
       "        vertical-align: top;\n",
       "    }\n",
       "\n",
       "    .dataframe thead th {\n",
       "        text-align: right;\n",
       "    }\n",
       "</style>\n",
       "<table border=\"1\" class=\"dataframe\">\n",
       "  <thead>\n",
       "    <tr style=\"text-align: right;\">\n",
       "      <th></th>\n",
       "      <th>Store</th>\n",
       "      <th>DayOfWeek</th>\n",
       "      <th>Date</th>\n",
       "      <th>Sales</th>\n",
       "      <th>Customers</th>\n",
       "      <th>Promo</th>\n",
       "      <th>StateHoliday</th>\n",
       "      <th>SchoolHoliday</th>\n",
       "      <th>StoreType</th>\n",
       "      <th>Assortment</th>\n",
       "      <th>CompetitionDistance</th>\n",
       "      <th>CompetitionOpenSinceMonth</th>\n",
       "      <th>CompetitionOpenSinceYear</th>\n",
       "      <th>Promo2</th>\n",
       "      <th>Promo2SinceWeek</th>\n",
       "      <th>Promo2SinceYear</th>\n",
       "      <th>PromoInterval</th>\n",
       "    </tr>\n",
       "  </thead>\n",
       "  <tbody>\n",
       "    <tr>\n",
       "      <th>0</th>\n",
       "      <td>1</td>\n",
       "      <td>5</td>\n",
       "      <td>2015-07-31</td>\n",
       "      <td>5263</td>\n",
       "      <td>555</td>\n",
       "      <td>1</td>\n",
       "      <td>0</td>\n",
       "      <td>1</td>\n",
       "      <td>c</td>\n",
       "      <td>a</td>\n",
       "      <td>1270.0</td>\n",
       "      <td>9.0</td>\n",
       "      <td>2008.0</td>\n",
       "      <td>0</td>\n",
       "      <td>NaN</td>\n",
       "      <td>NaN</td>\n",
       "      <td>NaN</td>\n",
       "    </tr>\n",
       "    <tr>\n",
       "      <th>1</th>\n",
       "      <td>1</td>\n",
       "      <td>4</td>\n",
       "      <td>2015-07-30</td>\n",
       "      <td>5020</td>\n",
       "      <td>546</td>\n",
       "      <td>1</td>\n",
       "      <td>0</td>\n",
       "      <td>1</td>\n",
       "      <td>c</td>\n",
       "      <td>a</td>\n",
       "      <td>1270.0</td>\n",
       "      <td>9.0</td>\n",
       "      <td>2008.0</td>\n",
       "      <td>0</td>\n",
       "      <td>NaN</td>\n",
       "      <td>NaN</td>\n",
       "      <td>NaN</td>\n",
       "    </tr>\n",
       "    <tr>\n",
       "      <th>2</th>\n",
       "      <td>1</td>\n",
       "      <td>3</td>\n",
       "      <td>2015-07-29</td>\n",
       "      <td>4782</td>\n",
       "      <td>523</td>\n",
       "      <td>1</td>\n",
       "      <td>0</td>\n",
       "      <td>1</td>\n",
       "      <td>c</td>\n",
       "      <td>a</td>\n",
       "      <td>1270.0</td>\n",
       "      <td>9.0</td>\n",
       "      <td>2008.0</td>\n",
       "      <td>0</td>\n",
       "      <td>NaN</td>\n",
       "      <td>NaN</td>\n",
       "      <td>NaN</td>\n",
       "    </tr>\n",
       "    <tr>\n",
       "      <th>3</th>\n",
       "      <td>1</td>\n",
       "      <td>2</td>\n",
       "      <td>2015-07-28</td>\n",
       "      <td>5011</td>\n",
       "      <td>560</td>\n",
       "      <td>1</td>\n",
       "      <td>0</td>\n",
       "      <td>1</td>\n",
       "      <td>c</td>\n",
       "      <td>a</td>\n",
       "      <td>1270.0</td>\n",
       "      <td>9.0</td>\n",
       "      <td>2008.0</td>\n",
       "      <td>0</td>\n",
       "      <td>NaN</td>\n",
       "      <td>NaN</td>\n",
       "      <td>NaN</td>\n",
       "    </tr>\n",
       "    <tr>\n",
       "      <th>4</th>\n",
       "      <td>1</td>\n",
       "      <td>1</td>\n",
       "      <td>2015-07-27</td>\n",
       "      <td>6102</td>\n",
       "      <td>612</td>\n",
       "      <td>1</td>\n",
       "      <td>0</td>\n",
       "      <td>1</td>\n",
       "      <td>c</td>\n",
       "      <td>a</td>\n",
       "      <td>1270.0</td>\n",
       "      <td>9.0</td>\n",
       "      <td>2008.0</td>\n",
       "      <td>0</td>\n",
       "      <td>NaN</td>\n",
       "      <td>NaN</td>\n",
       "      <td>NaN</td>\n",
       "    </tr>\n",
       "    <tr>\n",
       "      <th>...</th>\n",
       "      <td>...</td>\n",
       "      <td>...</td>\n",
       "      <td>...</td>\n",
       "      <td>...</td>\n",
       "      <td>...</td>\n",
       "      <td>...</td>\n",
       "      <td>...</td>\n",
       "      <td>...</td>\n",
       "      <td>...</td>\n",
       "      <td>...</td>\n",
       "      <td>...</td>\n",
       "      <td>...</td>\n",
       "      <td>...</td>\n",
       "      <td>...</td>\n",
       "      <td>...</td>\n",
       "      <td>...</td>\n",
       "      <td>...</td>\n",
       "    </tr>\n",
       "    <tr>\n",
       "      <th>1016260</th>\n",
       "      <td>1114</td>\n",
       "      <td>1</td>\n",
       "      <td>2013-01-07</td>\n",
       "      <td>21237</td>\n",
       "      <td>2962</td>\n",
       "      <td>1</td>\n",
       "      <td>0</td>\n",
       "      <td>0</td>\n",
       "      <td>a</td>\n",
       "      <td>c</td>\n",
       "      <td>870.0</td>\n",
       "      <td>NaN</td>\n",
       "      <td>NaN</td>\n",
       "      <td>0</td>\n",
       "      <td>NaN</td>\n",
       "      <td>NaN</td>\n",
       "      <td>NaN</td>\n",
       "    </tr>\n",
       "    <tr>\n",
       "      <th>1016262</th>\n",
       "      <td>1114</td>\n",
       "      <td>6</td>\n",
       "      <td>2013-01-05</td>\n",
       "      <td>18856</td>\n",
       "      <td>3065</td>\n",
       "      <td>0</td>\n",
       "      <td>0</td>\n",
       "      <td>0</td>\n",
       "      <td>a</td>\n",
       "      <td>c</td>\n",
       "      <td>870.0</td>\n",
       "      <td>NaN</td>\n",
       "      <td>NaN</td>\n",
       "      <td>0</td>\n",
       "      <td>NaN</td>\n",
       "      <td>NaN</td>\n",
       "      <td>NaN</td>\n",
       "    </tr>\n",
       "    <tr>\n",
       "      <th>1016263</th>\n",
       "      <td>1114</td>\n",
       "      <td>5</td>\n",
       "      <td>2013-01-04</td>\n",
       "      <td>18371</td>\n",
       "      <td>3036</td>\n",
       "      <td>0</td>\n",
       "      <td>0</td>\n",
       "      <td>1</td>\n",
       "      <td>a</td>\n",
       "      <td>c</td>\n",
       "      <td>870.0</td>\n",
       "      <td>NaN</td>\n",
       "      <td>NaN</td>\n",
       "      <td>0</td>\n",
       "      <td>NaN</td>\n",
       "      <td>NaN</td>\n",
       "      <td>NaN</td>\n",
       "    </tr>\n",
       "    <tr>\n",
       "      <th>1016264</th>\n",
       "      <td>1114</td>\n",
       "      <td>4</td>\n",
       "      <td>2013-01-03</td>\n",
       "      <td>18463</td>\n",
       "      <td>3211</td>\n",
       "      <td>0</td>\n",
       "      <td>0</td>\n",
       "      <td>1</td>\n",
       "      <td>a</td>\n",
       "      <td>c</td>\n",
       "      <td>870.0</td>\n",
       "      <td>NaN</td>\n",
       "      <td>NaN</td>\n",
       "      <td>0</td>\n",
       "      <td>NaN</td>\n",
       "      <td>NaN</td>\n",
       "      <td>NaN</td>\n",
       "    </tr>\n",
       "    <tr>\n",
       "      <th>1016265</th>\n",
       "      <td>1114</td>\n",
       "      <td>3</td>\n",
       "      <td>2013-01-02</td>\n",
       "      <td>20642</td>\n",
       "      <td>3401</td>\n",
       "      <td>0</td>\n",
       "      <td>0</td>\n",
       "      <td>1</td>\n",
       "      <td>a</td>\n",
       "      <td>c</td>\n",
       "      <td>870.0</td>\n",
       "      <td>NaN</td>\n",
       "      <td>NaN</td>\n",
       "      <td>0</td>\n",
       "      <td>NaN</td>\n",
       "      <td>NaN</td>\n",
       "      <td>NaN</td>\n",
       "    </tr>\n",
       "  </tbody>\n",
       "</table>\n",
       "<p>423292 rows × 17 columns</p>\n",
       "</div>"
      ],
      "text/plain": [
       "         Store  DayOfWeek       Date  Sales  Customers  Promo StateHoliday  \\\n",
       "0            1          5 2015-07-31   5263        555      1            0   \n",
       "1            1          4 2015-07-30   5020        546      1            0   \n",
       "2            1          3 2015-07-29   4782        523      1            0   \n",
       "3            1          2 2015-07-28   5011        560      1            0   \n",
       "4            1          1 2015-07-27   6102        612      1            0   \n",
       "...        ...        ...        ...    ...        ...    ...          ...   \n",
       "1016260   1114          1 2013-01-07  21237       2962      1            0   \n",
       "1016262   1114          6 2013-01-05  18856       3065      0            0   \n",
       "1016263   1114          5 2013-01-04  18371       3036      0            0   \n",
       "1016264   1114          4 2013-01-03  18463       3211      0            0   \n",
       "1016265   1114          3 2013-01-02  20642       3401      0            0   \n",
       "\n",
       "         SchoolHoliday StoreType Assortment  CompetitionDistance  \\\n",
       "0                    1         c          a               1270.0   \n",
       "1                    1         c          a               1270.0   \n",
       "2                    1         c          a               1270.0   \n",
       "3                    1         c          a               1270.0   \n",
       "4                    1         c          a               1270.0   \n",
       "...                ...       ...        ...                  ...   \n",
       "1016260              0         a          c                870.0   \n",
       "1016262              0         a          c                870.0   \n",
       "1016263              1         a          c                870.0   \n",
       "1016264              1         a          c                870.0   \n",
       "1016265              1         a          c                870.0   \n",
       "\n",
       "         CompetitionOpenSinceMonth  CompetitionOpenSinceYear  Promo2  \\\n",
       "0                              9.0                    2008.0       0   \n",
       "1                              9.0                    2008.0       0   \n",
       "2                              9.0                    2008.0       0   \n",
       "3                              9.0                    2008.0       0   \n",
       "4                              9.0                    2008.0       0   \n",
       "...                            ...                       ...     ...   \n",
       "1016260                        NaN                       NaN       0   \n",
       "1016262                        NaN                       NaN       0   \n",
       "1016263                        NaN                       NaN       0   \n",
       "1016264                        NaN                       NaN       0   \n",
       "1016265                        NaN                       NaN       0   \n",
       "\n",
       "         Promo2SinceWeek  Promo2SinceYear PromoInterval  \n",
       "0                    NaN              NaN           NaN  \n",
       "1                    NaN              NaN           NaN  \n",
       "2                    NaN              NaN           NaN  \n",
       "3                    NaN              NaN           NaN  \n",
       "4                    NaN              NaN           NaN  \n",
       "...                  ...              ...           ...  \n",
       "1016260              NaN              NaN           NaN  \n",
       "1016262              NaN              NaN           NaN  \n",
       "1016263              NaN              NaN           NaN  \n",
       "1016264              NaN              NaN           NaN  \n",
       "1016265              NaN              NaN           NaN  \n",
       "\n",
       "[423292 rows x 17 columns]"
      ]
     },
     "execution_count": 22,
     "metadata": {},
     "output_type": "execute_result"
    }
   ],
   "source": [
    "merged_train[(merged_train['Promo2'] == 0)] \n",
    "             \n"
   ]
  },
  {
   "cell_type": "markdown",
   "id": "09bb0137",
   "metadata": {},
   "source": [
    "We see that all NaN vlaues for Promo2SinceWeek and Promo2SinceYear are for stores with no Promo2, therefore we will replace NaN values with zero."
   ]
  },
  {
   "cell_type": "markdown",
   "id": "be36c1cd",
   "metadata": {},
   "source": [
    "Now we replace all other NaN values with zero:"
   ]
  },
  {
   "cell_type": "code",
   "execution_count": 23,
   "id": "eebe23f5",
   "metadata": {},
   "outputs": [
    {
     "data": {
      "text/plain": [
       "Store                        0\n",
       "DayOfWeek                    0\n",
       "Date                         0\n",
       "Sales                        0\n",
       "Customers                    0\n",
       "Promo                        0\n",
       "StateHoliday                 0\n",
       "SchoolHoliday                0\n",
       "StoreType                    0\n",
       "Assortment                   0\n",
       "CompetitionDistance          0\n",
       "CompetitionOpenSinceMonth    0\n",
       "CompetitionOpenSinceYear     0\n",
       "Promo2                       0\n",
       "Promo2SinceWeek              0\n",
       "Promo2SinceYear              0\n",
       "PromoInterval                0\n",
       "dtype: int64"
      ]
     },
     "execution_count": 23,
     "metadata": {},
     "output_type": "execute_result"
    }
   ],
   "source": [
    "merged_train.fillna(0, inplace = True)\n",
    "merged_train.isnull().sum()"
   ]
  },
  {
   "cell_type": "markdown",
   "id": "ce330708",
   "metadata": {},
   "source": [
    "Now we check for any duplicate rows:"
   ]
  },
  {
   "cell_type": "code",
   "execution_count": 24,
   "id": "e6798250",
   "metadata": {},
   "outputs": [
    {
     "name": "stdout",
     "output_type": "stream",
     "text": [
      "<class 'pandas.core.frame.DataFrame'>\n",
      "Int64Index: 844338 entries, 0 to 1017207\n",
      "Data columns (total 17 columns):\n",
      " #   Column                     Non-Null Count   Dtype         \n",
      "---  ------                     --------------   -----         \n",
      " 0   Store                      844338 non-null  int64         \n",
      " 1   DayOfWeek                  844338 non-null  int64         \n",
      " 2   Date                       844338 non-null  datetime64[ns]\n",
      " 3   Sales                      844338 non-null  int64         \n",
      " 4   Customers                  844338 non-null  int64         \n",
      " 5   Promo                      844338 non-null  int64         \n",
      " 6   StateHoliday               844338 non-null  object        \n",
      " 7   SchoolHoliday              844338 non-null  int64         \n",
      " 8   StoreType                  844338 non-null  object        \n",
      " 9   Assortment                 844338 non-null  object        \n",
      " 10  CompetitionDistance        844338 non-null  float64       \n",
      " 11  CompetitionOpenSinceMonth  844338 non-null  float64       \n",
      " 12  CompetitionOpenSinceYear   844338 non-null  float64       \n",
      " 13  Promo2                     844338 non-null  int64         \n",
      " 14  Promo2SinceWeek            844338 non-null  float64       \n",
      " 15  Promo2SinceYear            844338 non-null  float64       \n",
      " 16  PromoInterval              844338 non-null  object        \n",
      "dtypes: datetime64[ns](1), float64(5), int64(7), object(4)\n",
      "memory usage: 116.0+ MB\n"
     ]
    }
   ],
   "source": [
    "drop_multiple = merged_train.drop_duplicates([\"Store\",\"Date\"],keep=\"first\")\n",
    "drop_multiple.info()"
   ]
  },
  {
   "cell_type": "markdown",
   "id": "7efb5867",
   "metadata": {},
   "source": [
    "We see that there wereno duplicate rows."
   ]
  },
  {
   "cell_type": "markdown",
   "id": "7b737701",
   "metadata": {},
   "source": [
    "### Handling outliers"
   ]
  },
  {
   "cell_type": "markdown",
   "id": "a93e986f",
   "metadata": {},
   "source": [
    "Let’s start with a box plot of our DataFrame.\n"
   ]
  },
  {
   "cell_type": "code",
   "execution_count": 25,
   "id": "579fddd5",
   "metadata": {},
   "outputs": [
    {
     "data": {
      "image/png": "[encoded data removed]",
      "text/plain": [
       "<Figure size 1080x1080 with 6 Axes>"
      ]
     },
     "metadata": {
      "needs_background": "light"
     },
     "output_type": "display_data"
    }
   ],
   "source": [
    "merged_train.plot(y=[\"Sales\",\"Customers\",\"CompetitionDistance\",\n",
    "                 \"CompetitionOpenSinceYear\",\"Promo2SinceYear\",\"PromoInterval\"],\n",
    "              layout = (3,2), subplots=True, kind=\"box\", figsize=(15,15))\n",
    "plt.show()"
   ]
  },
  {
   "cell_type": "markdown",
   "id": "94ee1290",
   "metadata": {},
   "source": [
    "We can see that we have some columns with outlier. We use the function caluclate_outlier to calculate the lower and upper ranges for our outliers and then filter accordingly:"
   ]
  },
  {
   "cell_type": "code",
   "execution_count": 26,
   "id": "181d8746",
   "metadata": {},
   "outputs": [
    {
     "ename": "SyntaxError",
     "evalue": "invalid syntax (488650080.py, line 6)",
     "output_type": "error",
     "traceback": [
      "\u001b[0;36m  File \u001b[0;32m\"/var/folders/6r/0kkh8x7d6nsck_dj0hdd57rm0000gn/T/ipykernel_14533/488650080.py\"\u001b[0;36m, line \u001b[0;32m6\u001b[0m\n\u001b[0;31m    upper = Q3 +b 1.5 * IQR\u001b[0m\n\u001b[0m                  ^\u001b[0m\n\u001b[0;31mSyntaxError\u001b[0m\u001b[0;31m:\u001b[0m invalid syntax\n"
     ]
    }
   ],
   "source": [
    "def calculate_outlier(df,column):\n",
    "    Q3 = df[column].quantile(0.75)\n",
    "    Q1 = df[column].quantile(0.25)\n",
    "    IQR = Q3 - Q1\n",
    "    lower = Q1 - 1.5 * IQR\n",
    "    upper = Q3 +b 1.5 * IQR\n",
    "    return lower, upper"
   ]
  },
  {
   "cell_type": "code",
   "execution_count": null,
   "id": "1c88a2c1",
   "metadata": {},
   "outputs": [],
   "source": [
    "col = \"Sales\"\n",
    "lower_ins,upper_ins = calculate_outlier(merged_train,col)\n",
    "print(lower_ins,upper_ins)\n",
    "merged_train[(merged_train[col]>upper_ins) | (merged_train[col]<lower_ins)].count()"
   ]
  },
  {
   "cell_type": "markdown",
   "id": "534689dd",
   "metadata": {},
   "source": [
    "We impute the outliers with the upper range value:"
   ]
  },
  {
   "cell_type": "code",
   "execution_count": null,
   "id": "ed649060",
   "metadata": {},
   "outputs": [],
   "source": [
    "merged_train.loc[(merged_train[col]>upper_ins) | (merged_train[col]<lower_ins),col] = upper_ins\n",
    "merged_train[(merged_train[col]>upper_ins) | (merged_train[col]<lower_ins)].count()"
   ]
  },
  {
   "cell_type": "markdown",
   "id": "7b8c33e0",
   "metadata": {},
   "source": [
    "Now we do the same thing for other culomns of interest:"
   ]
  },
  {
   "cell_type": "code",
   "execution_count": null,
   "id": "9ac33cc1",
   "metadata": {},
   "outputs": [],
   "source": [
    "col = \"Customers\"\n",
    "lower_ins,upper_ins = calculate_outlier(merged_train,col)\n",
    "print(lower_ins,upper_ins)\n",
    "merged_train[(merged_train[col]>upper_ins) | (merged_train[col]<lower_ins)].count()"
   ]
  },
  {
   "cell_type": "code",
   "execution_count": null,
   "id": "c84693a6",
   "metadata": {},
   "outputs": [],
   "source": [
    "merged_train.loc[(merged_train[col]>upper_ins) | (merged_train[col]<lower_ins),col] = upper_ins\n",
    "merged_train[(merged_train[col]>upper_ins) | (merged_train[col]<lower_ins)].count()"
   ]
  },
  {
   "cell_type": "code",
   "execution_count": null,
   "id": "b5c83990",
   "metadata": {},
   "outputs": [],
   "source": [
    "col = \"CompetitionDistance\"\n",
    "lower_ins,upper_ins = calculate_outlier(merged_train,col)\n",
    "print(lower_ins,upper_ins)\n",
    "merged_train[(merged_train[col]>upper_ins) | (merged_train[col]<lower_ins)].count()"
   ]
  },
  {
   "cell_type": "code",
   "execution_count": null,
   "id": "9dfe3740",
   "metadata": {},
   "outputs": [],
   "source": [
    "merged_train.loc[(merged_train[col]>upper_ins) | (merged_train[col]<lower_ins),col] = upper_ins\n",
    "merged_train[(merged_train[col]>upper_ins) | (merged_train[col]<lower_ins)].count()"
   ]
  },
  {
   "cell_type": "code",
   "execution_count": null,
   "id": "2cc05456",
   "metadata": {},
   "outputs": [],
   "source": [
    "col = \"CompetitionOpenSinceYear\"\n",
    "lower_ins,upper_ins = calculate_outlier(merged_train,col)\n",
    "print(lower_ins,upper_ins)\n",
    "merged_train[(merged_train[col]>upper_ins) | (merged_train[col]<lower_ins)].count()"
   ]
  },
  {
   "cell_type": "code",
   "execution_count": null,
   "id": "386b8d64",
   "metadata": {},
   "outputs": [],
   "source": [
    "merged_train.loc[(merged_train[col]>upper_ins) | (merged_train[col]<lower_ins),col] = upper_ins\n",
    "merged_train[(merged_train[col]>upper_ins) | (merged_train[col]<lower_ins)].count()"
   ]
  },
  {
   "cell_type": "markdown",
   "id": "f26d4c63",
   "metadata": {},
   "source": [
    "## 9 - Exploratory insights and visualisation"
   ]
  },
  {
   "cell_type": "markdown",
   "id": "2b6d8285",
   "metadata": {},
   "source": [
    "After cleaning data we summurise data again:"
   ]
  },
  {
   "cell_type": "code",
   "execution_count": 27,
   "id": "99050f8a",
   "metadata": {},
   "outputs": [
    {
     "data": {
      "text/html": [
       "<div>\n",
       "<style scoped>\n",
       "    .dataframe tbody tr th:only-of-type {\n",
       "        vertical-align: middle;\n",
       "    }\n",
       "\n",
       "    .dataframe tbody tr th {\n",
       "        vertical-align: top;\n",
       "    }\n",
       "\n",
       "    .dataframe thead th {\n",
       "        text-align: right;\n",
       "    }\n",
       "</style>\n",
       "<table border=\"1\" class=\"dataframe\">\n",
       "  <thead>\n",
       "    <tr style=\"text-align: right;\">\n",
       "      <th></th>\n",
       "      <th>Store</th>\n",
       "      <th>DayOfWeek</th>\n",
       "      <th>Sales</th>\n",
       "      <th>Customers</th>\n",
       "      <th>Promo</th>\n",
       "      <th>SchoolHoliday</th>\n",
       "      <th>CompetitionDistance</th>\n",
       "      <th>CompetitionOpenSinceMonth</th>\n",
       "      <th>CompetitionOpenSinceYear</th>\n",
       "      <th>Promo2</th>\n",
       "      <th>Promo2SinceWeek</th>\n",
       "      <th>Promo2SinceYear</th>\n",
       "    </tr>\n",
       "  </thead>\n",
       "  <tbody>\n",
       "    <tr>\n",
       "      <th>count</th>\n",
       "      <td>844338.000000</td>\n",
       "      <td>844338.000000</td>\n",
       "      <td>844338.000000</td>\n",
       "      <td>844338.000000</td>\n",
       "      <td>844338.000000</td>\n",
       "      <td>844338.000000</td>\n",
       "      <td>844338.000000</td>\n",
       "      <td>844338.000000</td>\n",
       "      <td>844338.000000</td>\n",
       "      <td>844338.000000</td>\n",
       "      <td>844338.000000</td>\n",
       "      <td>844338.000000</td>\n",
       "    </tr>\n",
       "    <tr>\n",
       "      <th>mean</th>\n",
       "      <td>558.421374</td>\n",
       "      <td>3.520350</td>\n",
       "      <td>6955.959134</td>\n",
       "      <td>762.777166</td>\n",
       "      <td>0.446356</td>\n",
       "      <td>0.193578</td>\n",
       "      <td>5450.031907</td>\n",
       "      <td>4.926482</td>\n",
       "      <td>1369.692738</td>\n",
       "      <td>0.498670</td>\n",
       "      <td>11.596159</td>\n",
       "      <td>1003.201259</td>\n",
       "    </tr>\n",
       "    <tr>\n",
       "      <th>std</th>\n",
       "      <td>321.730861</td>\n",
       "      <td>1.723712</td>\n",
       "      <td>3103.815515</td>\n",
       "      <td>401.194153</td>\n",
       "      <td>0.497114</td>\n",
       "      <td>0.395102</td>\n",
       "      <td>7801.087197</td>\n",
       "      <td>4.283634</td>\n",
       "      <td>935.556484</td>\n",
       "      <td>0.499999</td>\n",
       "      <td>15.308101</td>\n",
       "      <td>1005.874685</td>\n",
       "    </tr>\n",
       "    <tr>\n",
       "      <th>min</th>\n",
       "      <td>1.000000</td>\n",
       "      <td>1.000000</td>\n",
       "      <td>46.000000</td>\n",
       "      <td>8.000000</td>\n",
       "      <td>0.000000</td>\n",
       "      <td>0.000000</td>\n",
       "      <td>20.000000</td>\n",
       "      <td>0.000000</td>\n",
       "      <td>0.000000</td>\n",
       "      <td>0.000000</td>\n",
       "      <td>0.000000</td>\n",
       "      <td>0.000000</td>\n",
       "    </tr>\n",
       "    <tr>\n",
       "      <th>25%</th>\n",
       "      <td>280.000000</td>\n",
       "      <td>2.000000</td>\n",
       "      <td>4859.000000</td>\n",
       "      <td>519.000000</td>\n",
       "      <td>0.000000</td>\n",
       "      <td>0.000000</td>\n",
       "      <td>710.000000</td>\n",
       "      <td>0.000000</td>\n",
       "      <td>0.000000</td>\n",
       "      <td>0.000000</td>\n",
       "      <td>0.000000</td>\n",
       "      <td>0.000000</td>\n",
       "    </tr>\n",
       "    <tr>\n",
       "      <th>50%</th>\n",
       "      <td>558.000000</td>\n",
       "      <td>3.000000</td>\n",
       "      <td>6369.000000</td>\n",
       "      <td>676.000000</td>\n",
       "      <td>0.000000</td>\n",
       "      <td>0.000000</td>\n",
       "      <td>2320.000000</td>\n",
       "      <td>4.000000</td>\n",
       "      <td>2006.000000</td>\n",
       "      <td>0.000000</td>\n",
       "      <td>0.000000</td>\n",
       "      <td>0.000000</td>\n",
       "    </tr>\n",
       "    <tr>\n",
       "      <th>75%</th>\n",
       "      <td>837.000000</td>\n",
       "      <td>5.000000</td>\n",
       "      <td>8360.000000</td>\n",
       "      <td>893.000000</td>\n",
       "      <td>1.000000</td>\n",
       "      <td>0.000000</td>\n",
       "      <td>6880.000000</td>\n",
       "      <td>9.000000</td>\n",
       "      <td>2011.000000</td>\n",
       "      <td>1.000000</td>\n",
       "      <td>22.000000</td>\n",
       "      <td>2012.000000</td>\n",
       "    </tr>\n",
       "    <tr>\n",
       "      <th>max</th>\n",
       "      <td>1115.000000</td>\n",
       "      <td>7.000000</td>\n",
       "      <td>41551.000000</td>\n",
       "      <td>7388.000000</td>\n",
       "      <td>1.000000</td>\n",
       "      <td>1.000000</td>\n",
       "      <td>75860.000000</td>\n",
       "      <td>12.000000</td>\n",
       "      <td>2015.000000</td>\n",
       "      <td>1.000000</td>\n",
       "      <td>50.000000</td>\n",
       "      <td>2015.000000</td>\n",
       "    </tr>\n",
       "  </tbody>\n",
       "</table>\n",
       "</div>"
      ],
      "text/plain": [
       "               Store      DayOfWeek          Sales      Customers  \\\n",
       "count  844338.000000  844338.000000  844338.000000  844338.000000   \n",
       "mean      558.421374       3.520350    6955.959134     762.777166   \n",
       "std       321.730861       1.723712    3103.815515     401.194153   \n",
       "min         1.000000       1.000000      46.000000       8.000000   \n",
       "25%       280.000000       2.000000    4859.000000     519.000000   \n",
       "50%       558.000000       3.000000    6369.000000     676.000000   \n",
       "75%       837.000000       5.000000    8360.000000     893.000000   \n",
       "max      1115.000000       7.000000   41551.000000    7388.000000   \n",
       "\n",
       "               Promo  SchoolHoliday  CompetitionDistance  \\\n",
       "count  844338.000000  844338.000000        844338.000000   \n",
       "mean        0.446356       0.193578          5450.031907   \n",
       "std         0.497114       0.395102          7801.087197   \n",
       "min         0.000000       0.000000            20.000000   \n",
       "25%         0.000000       0.000000           710.000000   \n",
       "50%         0.000000       0.000000          2320.000000   \n",
       "75%         1.000000       0.000000          6880.000000   \n",
       "max         1.000000       1.000000         75860.000000   \n",
       "\n",
       "       CompetitionOpenSinceMonth  CompetitionOpenSinceYear         Promo2  \\\n",
       "count              844338.000000             844338.000000  844338.000000   \n",
       "mean                    4.926482               1369.692738       0.498670   \n",
       "std                     4.283634                935.556484       0.499999   \n",
       "min                     0.000000                  0.000000       0.000000   \n",
       "25%                     0.000000                  0.000000       0.000000   \n",
       "50%                     4.000000               2006.000000       0.000000   \n",
       "75%                     9.000000               2011.000000       1.000000   \n",
       "max                    12.000000               2015.000000       1.000000   \n",
       "\n",
       "       Promo2SinceWeek  Promo2SinceYear  \n",
       "count    844338.000000    844338.000000  \n",
       "mean         11.596159      1003.201259  \n",
       "std          15.308101      1005.874685  \n",
       "min           0.000000         0.000000  \n",
       "25%           0.000000         0.000000  \n",
       "50%           0.000000         0.000000  \n",
       "75%          22.000000      2012.000000  \n",
       "max          50.000000      2015.000000  "
      ]
     },
     "execution_count": 27,
     "metadata": {},
     "output_type": "execute_result"
    }
   ],
   "source": [
    "merged_train.describe()"
   ]
  },
  {
   "cell_type": "code",
   "execution_count": 28,
   "id": "9897cc49",
   "metadata": {},
   "outputs": [
    {
     "data": {
      "text/plain": [
       "Store                        0\n",
       "DayOfWeek                    0\n",
       "Date                         0\n",
       "Sales                        0\n",
       "Customers                    0\n",
       "Promo                        0\n",
       "StateHoliday                 0\n",
       "SchoolHoliday                0\n",
       "StoreType                    0\n",
       "Assortment                   0\n",
       "CompetitionDistance          0\n",
       "CompetitionOpenSinceMonth    0\n",
       "CompetitionOpenSinceYear     0\n",
       "Promo2                       0\n",
       "Promo2SinceWeek              0\n",
       "Promo2SinceYear              0\n",
       "PromoInterval                0\n",
       "dtype: int64"
      ]
     },
     "execution_count": 28,
     "metadata": {},
     "output_type": "execute_result"
    }
   ],
   "source": [
    "merged_train.isnull().sum()"
   ]
  },
  {
   "cell_type": "markdown",
   "id": "ed448ab2",
   "metadata": {},
   "source": [
    "### Sales per DayOfWeek with and without Promo"
   ]
  },
  {
   "cell_type": "code",
   "execution_count": 38,
   "id": "e4e92723",
   "metadata": {},
   "outputs": [
    {
     "data": {
      "text/html": [
       "<div>\n",
       "<style scoped>\n",
       "    .dataframe tbody tr th:only-of-type {\n",
       "        vertical-align: middle;\n",
       "    }\n",
       "\n",
       "    .dataframe tbody tr th {\n",
       "        vertical-align: top;\n",
       "    }\n",
       "\n",
       "    .dataframe thead th {\n",
       "        text-align: right;\n",
       "    }\n",
       "</style>\n",
       "<table border=\"1\" class=\"dataframe\">\n",
       "  <thead>\n",
       "    <tr style=\"text-align: right;\">\n",
       "      <th>Promo</th>\n",
       "      <th>0</th>\n",
       "      <th>1</th>\n",
       "    </tr>\n",
       "    <tr>\n",
       "      <th>DayOfWeek</th>\n",
       "      <th></th>\n",
       "      <th></th>\n",
       "    </tr>\n",
       "  </thead>\n",
       "  <tbody>\n",
       "    <tr>\n",
       "      <th>1</th>\n",
       "      <td>6222.727829</td>\n",
       "      <td>9772.910890</td>\n",
       "    </tr>\n",
       "    <tr>\n",
       "      <th>2</th>\n",
       "      <td>5716.412127</td>\n",
       "      <td>8277.630871</td>\n",
       "    </tr>\n",
       "    <tr>\n",
       "      <th>3</th>\n",
       "      <td>5617.729043</td>\n",
       "      <td>7685.682535</td>\n",
       "    </tr>\n",
       "    <tr>\n",
       "      <th>4</th>\n",
       "      <td>5750.882664</td>\n",
       "      <td>7598.788372</td>\n",
       "    </tr>\n",
       "    <tr>\n",
       "      <th>5</th>\n",
       "      <td>6344.411832</td>\n",
       "      <td>7744.388208</td>\n",
       "    </tr>\n",
       "    <tr>\n",
       "      <th>6</th>\n",
       "      <td>5875.084935</td>\n",
       "      <td>NaN</td>\n",
       "    </tr>\n",
       "    <tr>\n",
       "      <th>7</th>\n",
       "      <td>8224.723908</td>\n",
       "      <td>NaN</td>\n",
       "    </tr>\n",
       "  </tbody>\n",
       "</table>\n",
       "</div>"
      ],
      "text/plain": [
       "Promo                0            1\n",
       "DayOfWeek                          \n",
       "1          6222.727829  9772.910890\n",
       "2          5716.412127  8277.630871\n",
       "3          5617.729043  7685.682535\n",
       "4          5750.882664  7598.788372\n",
       "5          6344.411832  7744.388208\n",
       "6          5875.084935          NaN\n",
       "7          8224.723908          NaN"
      ]
     },
     "execution_count": 38,
     "metadata": {},
     "output_type": "execute_result"
    }
   ],
   "source": [
    "SalesPerDayOfWeek_pivot = pd.pivot_table(merged_train,index=\"DayOfWeek\", columns=\"Promo\", values=\"Sales\", aggfunc=np.mean)\n",
    "SalesPerDayOfWeek_pivot"
   ]
  },
  {
   "cell_type": "markdown",
   "id": "bd9cd26a",
   "metadata": {},
   "source": [
    "We can clearly see that In case of no promotion, Sales tend to peak on Sunday.  Whereas, stores that run the promotion make most of the Sales on Monday. Promo2 seems to have no effect on sales."
   ]
  },
  {
   "cell_type": "code",
   "execution_count": 36,
   "id": "086c1489",
   "metadata": {},
   "outputs": [
    {
     "data": {
      "image/png": "[encoded data removed]",
      "text/plain": [
       "<Figure size 432x288 with 1 Axes>"
      ]
     },
     "metadata": {
      "needs_background": "light"
     },
     "output_type": "display_data"
    }
   ],
   "source": [
    "SalesPerDayOfWeek_pivot.plot(figsize=(6,4))\n",
    "plt.show()"
   ]
  },
  {
   "cell_type": "code",
   "execution_count": null,
   "id": "f7de30cd",
   "metadata": {},
   "outputs": [],
   "source": []
  },
  {
   "cell_type": "code",
   "execution_count": null,
   "id": "6a26fd98",
   "metadata": {},
   "outputs": [],
   "source": []
  },
  {
   "cell_type": "code",
   "execution_count": null,
   "id": "c7475bef",
   "metadata": {},
   "outputs": [],
   "source": []
  },
  {
   "cell_type": "code",
   "execution_count": null,
   "id": "34ce7e86",
   "metadata": {},
   "outputs": [],
   "source": []
  },
  {
   "cell_type": "markdown",
   "id": "089ef71b",
   "metadata": {},
   "source": [
    "## 10 - Conclusion"
   ]
  },
  {
   "cell_type": "markdown",
   "id": "d96bf311",
   "metadata": {},
   "source": [
    "In this potfolio we merged train and store datasets and came up with a 1017208 rows and 18 columns dataset. then we removed unnecessary culomns and rows with zero sales. Finaly we saw the effect of promo on sales per days of the week. We see that Promo 2 has no significant benefit for the stores."
   ]
  },
  {
   "cell_type": "markdown",
   "id": "a53542f7",
   "metadata": {},
   "source": [
    "## 11 - References"
   ]
  },
  {
   "cell_type": "markdown",
   "id": "1ec930dc",
   "metadata": {},
   "source": [
    "Rossmann Store Sales, Forecast sales using store, promotion, and competitor data.\n",
    "\n",
    "URL: https://www.kaggle.com/competitions/rossmann-store-sales/data\n",
    "\n",
    "Access date: 4-Apr-2022"
   ]
  }
 ],
 "metadata": {
  "kernelspec": {
   "display_name": "Python 3 (ipykernel)",
   "language": "python",
   "name": "python3"
  },
  "language_info": {
   "codemirror_mode": {
    "name": "ipython",
    "version": 3
   },
   "file_extension": ".py",
   "mimetype": "text/x-python",
   "name": "python",
   "nbconvert_exporter": "python",
   "pygments_lexer": "ipython3",
   "version": "3.9.7"
  }
 },
 "nbformat": 4,
 "nbformat_minor": 5
}
